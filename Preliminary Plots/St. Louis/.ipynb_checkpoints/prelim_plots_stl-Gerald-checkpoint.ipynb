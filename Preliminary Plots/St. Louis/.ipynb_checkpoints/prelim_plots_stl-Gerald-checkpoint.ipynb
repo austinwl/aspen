{
 "cells": [
  {
   "cell_type": "markdown",
   "metadata": {
    "toc": true
   },
   "source": [
    "<h1>Table of Contents<span class=\"tocSkip\"></span></h1>\n",
    "<div class=\"toc\"><ul class=\"toc-item\"><li><span><a href=\"#Libraries\" data-toc-modified-id=\"Libraries-1\">Libraries</a></span></li><li><span><a href=\"#Maps\" data-toc-modified-id=\"Maps-2\">Maps</a></span></li><li><span><a href=\"#Food-Access\" data-toc-modified-id=\"Food-Access-3\">Food Access</a></span></li><li><span><a href=\"#Unemployment\" data-toc-modified-id=\"Unemployment-4\">Unemployment</a></span></li><li><span><a href=\"#Internet-Access\" data-toc-modified-id=\"Internet-Access-5\">Internet Access</a></span></li></ul></div>"
   ]
  },
  {
   "cell_type": "markdown",
   "metadata": {},
   "source": [
    "## Libraries"
   ]
  },
  {
   "cell_type": "code",
   "execution_count": 1,
   "metadata": {},
   "outputs": [],
   "source": [
    "### UNCOMMENT to install\n",
    "# !conda install geopandas "
   ]
  },
  {
   "cell_type": "code",
   "execution_count": 2,
   "metadata": {},
   "outputs": [],
   "source": [
    "import random\n",
    "random.seed(12345)\n",
    "import os\n",
    "\n",
    "import numpy as np\n",
    "import pandas as pd\n",
    "import geopandas as gpd\n",
    "# %cd \"C:\\Users\\apple\\OneDrive\\Documents\\Harvard College\\Senior Year\\HCDAG\\Preliminary Plots\\St. Louis\""
   ]
  },
  {
   "cell_type": "markdown",
   "metadata": {},
   "source": [
    "## Maps\n",
    "See: https://geopandas.org/mapping.html"
   ]
  },
  {
   "cell_type": "code",
   "execution_count": 3,
   "metadata": {},
   "outputs": [],
   "source": [
    "stl_filename = 'BND_Nhd88_cw.shp'\n",
    "stl_map = gpd.read_file(stl_filename)"
   ]
  },
  {
   "cell_type": "code",
   "execution_count": 4,
   "metadata": {},
   "outputs": [
    {
     "data": {
      "text/plain": [
       "Index(['NHD_NUM', 'NHD_NAME', 'ANGLE', 'NHD_NUMTXT', 'SHAPE_area', 'SHAPE_len',\n",
       "       'geometry'],\n",
       "      dtype='object')"
      ]
     },
     "execution_count": 4,
     "metadata": {},
     "output_type": "execute_result"
    }
   ],
   "source": [
    "stl_map.columns"
   ]
  },
  {
   "cell_type": "code",
   "execution_count": 5,
   "metadata": {},
   "outputs": [
    {
     "data": {
      "text/html": [
       "<div>\n",
       "<style scoped>\n",
       "    .dataframe tbody tr th:only-of-type {\n",
       "        vertical-align: middle;\n",
       "    }\n",
       "\n",
       "    .dataframe tbody tr th {\n",
       "        vertical-align: top;\n",
       "    }\n",
       "\n",
       "    .dataframe thead th {\n",
       "        text-align: right;\n",
       "    }\n",
       "</style>\n",
       "<table border=\"1\" class=\"dataframe\">\n",
       "  <thead>\n",
       "    <tr style=\"text-align: right;\">\n",
       "      <th></th>\n",
       "      <th>NHD_NUM</th>\n",
       "      <th>NHD_NAME</th>\n",
       "      <th>ANGLE</th>\n",
       "      <th>NHD_NUMTXT</th>\n",
       "      <th>SHAPE_area</th>\n",
       "      <th>SHAPE_len</th>\n",
       "      <th>geometry</th>\n",
       "    </tr>\n",
       "  </thead>\n",
       "  <tbody>\n",
       "    <tr>\n",
       "      <th>0</th>\n",
       "      <td>43</td>\n",
       "      <td>Franz Park</td>\n",
       "      <td>0.0</td>\n",
       "      <td>43 Franz Park</td>\n",
       "      <td>1.101201e+07</td>\n",
       "      <td>14740.430494</td>\n",
       "      <td>POLYGON ((877657.980 1016328.400, 877790.310 1...</td>\n",
       "    </tr>\n",
       "    <tr>\n",
       "      <th>1</th>\n",
       "      <td>29</td>\n",
       "      <td>Tiffany</td>\n",
       "      <td>0.0</td>\n",
       "      <td>29 Tiffany</td>\n",
       "      <td>5.887342e+06</td>\n",
       "      <td>10467.846527</td>\n",
       "      <td>POLYGON ((895417.850 1016887.240, 894894.990 1...</td>\n",
       "    </tr>\n",
       "    <tr>\n",
       "      <th>2</th>\n",
       "      <td>28</td>\n",
       "      <td>Botanical Heights</td>\n",
       "      <td>0.0</td>\n",
       "      <td>28 Botanical Heights</td>\n",
       "      <td>1.158601e+07</td>\n",
       "      <td>14700.023102</td>\n",
       "      <td>POLYGON ((893871.830 1017297.510, 893519.400 1...</td>\n",
       "    </tr>\n",
       "    <tr>\n",
       "      <th>3</th>\n",
       "      <td>40</td>\n",
       "      <td>Kings Oak</td>\n",
       "      <td>0.0</td>\n",
       "      <td>40 Kings Oak</td>\n",
       "      <td>4.706723e+06</td>\n",
       "      <td>9239.956194</td>\n",
       "      <td>POLYGON ((887474.710 1017871.670, 887462.870 1...</td>\n",
       "    </tr>\n",
       "    <tr>\n",
       "      <th>4</th>\n",
       "      <td>41</td>\n",
       "      <td>Cheltenham</td>\n",
       "      <td>0.0</td>\n",
       "      <td>41 Cheltenham</td>\n",
       "      <td>9.245751e+06</td>\n",
       "      <td>12357.105835</td>\n",
       "      <td>POLYGON ((884617.940 1018220.450, 884356.350 1...</td>\n",
       "    </tr>\n",
       "  </tbody>\n",
       "</table>\n",
       "</div>"
      ],
      "text/plain": [
       "   NHD_NUM           NHD_NAME  ANGLE            NHD_NUMTXT    SHAPE_area  \\\n",
       "0       43         Franz Park    0.0         43 Franz Park  1.101201e+07   \n",
       "1       29            Tiffany    0.0            29 Tiffany  5.887342e+06   \n",
       "2       28  Botanical Heights    0.0  28 Botanical Heights  1.158601e+07   \n",
       "3       40          Kings Oak    0.0          40 Kings Oak  4.706723e+06   \n",
       "4       41         Cheltenham    0.0         41 Cheltenham  9.245751e+06   \n",
       "\n",
       "      SHAPE_len                                           geometry  \n",
       "0  14740.430494  POLYGON ((877657.980 1016328.400, 877790.310 1...  \n",
       "1  10467.846527  POLYGON ((895417.850 1016887.240, 894894.990 1...  \n",
       "2  14700.023102  POLYGON ((893871.830 1017297.510, 893519.400 1...  \n",
       "3   9239.956194  POLYGON ((887474.710 1017871.670, 887462.870 1...  \n",
       "4  12357.105835  POLYGON ((884617.940 1018220.450, 884356.350 1...  "
      ]
     },
     "execution_count": 5,
     "metadata": {},
     "output_type": "execute_result"
    }
   ],
   "source": [
    "stl_map.head()"
   ]
  },
  {
   "cell_type": "code",
   "execution_count": 6,
   "metadata": {},
   "outputs": [
    {
     "data": {
      "image/png": "[encoded data removed]",
      "text/plain": [
       "<Figure size 432x288 with 1 Axes>"
      ]
     },
     "metadata": {
      "needs_background": "light"
     },
     "output_type": "display_data"
    }
   ],
   "source": [
    "stl_map.plot();"
   ]
  },
  {
   "cell_type": "code",
   "execution_count": 7,
   "metadata": {},
   "outputs": [],
   "source": [
    "stl_map.plot??"
   ]
  },
  {
   "cell_type": "markdown",
   "metadata": {},
   "source": [
    "## Food Access"
   ]
  },
  {
   "cell_type": "code",
   "execution_count": null,
   "metadata": {},
   "outputs": [],
   "source": []
  },
  {
   "cell_type": "markdown",
   "metadata": {},
   "source": [
    "## Unemployment"
   ]
  },
  {
   "cell_type": "code",
   "execution_count": null,
   "metadata": {},
   "outputs": [],
   "source": []
  },
  {
   "cell_type": "markdown",
   "metadata": {},
   "source": [
    "## Internet Access"
   ]
  },
  {
   "cell_type": "code",
   "execution_count": null,
   "metadata": {},
   "outputs": [],
   "source": []
  }
 ],
 "metadata": {
  "kernelspec": {
   "display_name": "Python 3",
   "language": "python",
   "name": "python3"
  },
  "language_info": {
   "codemirror_mode": {
    "name": "ipython",
    "version": 3
   },
   "file_extension": ".py",
   "mimetype": "text/x-python",
   "name": "python",
   "nbconvert_exporter": "python",
   "pygments_lexer": "ipython3",
   "version": "3.6.10"
  },
  "toc": {
   "base_numbering": 1,
   "nav_menu": {},
   "number_sections": false,
   "sideBar": true,
   "skip_h1_title": false,
   "title_cell": "Table of Contents",
   "title_sidebar": "Contents",
   "toc_cell": true,
   "toc_position": {},
   "toc_section_display": true,
   "toc_window_display": false
  }
 },
 "nbformat": 4,
 "nbformat_minor": 2
}
